{
 "cells": [
  {
   "cell_type": "code",
   "execution_count": 1,
   "metadata": {},
   "outputs": [],
   "source": [
    "from PIL import Image\n",
    "import requests\n",
    "from io import BytesIO\n",
    "import json\n",
    "import os\n",
    "import numpy as np\n",
    "import matplotlib.pyplot as plt\n",
    "import matplotlib.patches as mpatches\n",
    "from skimage.filters import threshold_otsu\n",
    "from skimage.io import imread, imsave\n",
    "from skimage.color import rgb2gray\n",
    "from skimage.measure import label, regionprops\n",
    "import random\n",
    "import math\n",
    "import imageio\n",
    "import imgaug as ia\n",
    "from imgaug import augmenters as iaa\n",
    "from imgaug.augmentables.bbs import BoundingBox, BoundingBoxesOnImage\n",
    "import glob\n",
    "import random\n",
    "import shutil"
   ]
  },
  {
   "cell_type": "code",
   "execution_count": 2,
   "metadata": {},
   "outputs": [],
   "source": [
    "species = {\n",
    "    \"negative\": 0,\n",
    "    \"pf\": 0,\n",
    "    \"pm\": 0,\n",
    "    \"po\": 0,\n",
    "    \"pv\": 0\n",
    "}"
   ]
  },
  {
   "cell_type": "code",
   "execution_count": 3,
   "metadata": {},
   "outputs": [
    {
     "name": "stdout",
     "output_type": "stream",
     "text": [
      "{'negative': 3560, 'pf': 1056, 'pm': 0, 'po': 0, 'pv': 0}\n"
     ]
    }
   ],
   "source": [
    "data = (requests.get('https://raw.githubusercontent.com/RTANC/malaria_dataset/master/Falciparum/Pf_ext_01.json')).json()\n",
    "images = data[\"_via_img_metadata\"]\n",
    "for key in images:\n",
    "    url = images[key][\"filename\"]\n",
    "    leng = len(images[key][\"regions\"])\n",
    "    if leng > 0:\n",
    "        for box in images[key][\"regions\"]:\n",
    "            lbl = box[\"region_attributes\"][\"type\"]\n",
    "            if lbl == \"2\":\n",
    "                species[\"pf\"] += 1\n",
    "            elif lbl == \"1\":\n",
    "                species[\"negative\"] += 1\n",
    "print(species)"
   ]
  },
  {
   "cell_type": "code",
   "execution_count": 4,
   "metadata": {},
   "outputs": [
    {
     "name": "stdout",
     "output_type": "stream",
     "text": [
      "{'negative': 21555, 'pf': 4234, 'pm': 0, 'po': 0, 'pv': 0}\n"
     ]
    }
   ],
   "source": [
    "data = (requests.get('https://raw.githubusercontent.com/RTANC/malaria_dataset/master/Falciparum/pf_01.json')).json()\n",
    "images = data[\"_via_img_metadata\"]\n",
    "for key in images:\n",
    "    url = images[key][\"filename\"]\n",
    "    leng = len(images[key][\"regions\"])\n",
    "    if leng > 0:\n",
    "        for box in images[key][\"regions\"]:\n",
    "            lbl = box[\"region_attributes\"][\"type\"]\n",
    "            if lbl == \"1\":\n",
    "                species[\"pf\"] += 1\n",
    "            elif lbl == \"0\":\n",
    "                species[\"negative\"] += 1\n",
    "print(species)"
   ]
  },
  {
   "cell_type": "code",
   "execution_count": 5,
   "metadata": {},
   "outputs": [
    {
     "name": "stdout",
     "output_type": "stream",
     "text": [
      "{'negative': 22339, 'pf': 4234, 'pm': 347, 'po': 0, 'pv': 0}\n"
     ]
    }
   ],
   "source": [
    "data = (requests.get('https://raw.githubusercontent.com/RTANC/malaria_dataset/master/Malariae/Pm_ext.json')).json()\n",
    "images = data[\"_via_img_metadata\"]\n",
    "for key in images:\n",
    "    url = images[key][\"filename\"]\n",
    "    leng = len(images[key][\"regions\"])\n",
    "    if leng > 0:\n",
    "        for box in images[key][\"regions\"]:\n",
    "            lbl = box[\"region_attributes\"][\"type\"]\n",
    "            if lbl == \"1\":\n",
    "                species[\"pm\"] += 1\n",
    "            elif lbl == \"0\":\n",
    "                species[\"negative\"] += 1\n",
    "print(species)"
   ]
  },
  {
   "cell_type": "code",
   "execution_count": 6,
   "metadata": {},
   "outputs": [
    {
     "name": "stdout",
     "output_type": "stream",
     "text": [
      "{'negative': 23898, 'pf': 4234, 'pm': 1203, 'po': 0, 'pv': 0}\n"
     ]
    }
   ],
   "source": [
    "data = (requests.get('https://raw.githubusercontent.com/RTANC/malaria_dataset/master/Malariae/pm.json')).json()\n",
    "images = data[\"_via_img_metadata\"]\n",
    "for key in images:\n",
    "    url = images[key][\"filename\"]\n",
    "    leng = len(images[key][\"regions\"])\n",
    "    if leng > 0:\n",
    "        for box in images[key][\"regions\"]:\n",
    "            lbl = box[\"region_attributes\"][\"type\"]\n",
    "            if lbl == \"1\":\n",
    "                species[\"pm\"] += 1\n",
    "            elif lbl == \"0\":\n",
    "                species[\"negative\"] += 1\n",
    "print(species)"
   ]
  },
  {
   "cell_type": "code",
   "execution_count": 7,
   "metadata": {},
   "outputs": [
    {
     "name": "stdout",
     "output_type": "stream",
     "text": [
      "{'negative': 28371, 'pf': 4234, 'pm': 1517, 'po': 0, 'pv': 0}\n"
     ]
    }
   ],
   "source": [
    "data = (requests.get('https://raw.githubusercontent.com/RTANC/malaria_dataset/master/Malariae/pm-20201224.json')).json()\n",
    "images = data[\"_via_img_metadata\"]\n",
    "for key in images:\n",
    "    url = images[key][\"filename\"]\n",
    "    leng = len(images[key][\"regions\"])\n",
    "    if leng > 0:\n",
    "        for box in images[key][\"regions\"]:\n",
    "            lbl = box[\"region_attributes\"][\"type\"]\n",
    "            if lbl == \"1\":\n",
    "                species[\"pm\"] += 1\n",
    "            elif lbl == \"0\":\n",
    "                species[\"negative\"] += 1\n",
    "print(species)"
   ]
  },
  {
   "cell_type": "code",
   "execution_count": 8,
   "metadata": {},
   "outputs": [
    {
     "name": "stdout",
     "output_type": "stream",
     "text": [
      "{'negative': 28970, 'pf': 4234, 'pm': 1517, 'po': 278, 'pv': 0}\n"
     ]
    }
   ],
   "source": [
    "data = (requests.get('https://raw.githubusercontent.com/RTANC/malaria_dataset/master/Ovale/Po_ext.json')).json()\n",
    "images = data[\"_via_img_metadata\"]\n",
    "count = 1\n",
    "for key in images:\n",
    "    url = images[key][\"filename\"]\n",
    "    leng = len(images[key][\"regions\"])\n",
    "    if leng > 0 and count <= 232:\n",
    "        for box in images[key][\"regions\"]:\n",
    "            lbl = box[\"region_attributes\"][\"type\"]\n",
    "            if lbl == \"1\":\n",
    "                species[\"po\"] += 1\n",
    "            elif lbl == \"0\":\n",
    "                species[\"negative\"] += 1\n",
    "    count += 1\n",
    "print(species)"
   ]
  },
  {
   "cell_type": "code",
   "execution_count": 9,
   "metadata": {},
   "outputs": [
    {
     "name": "stdout",
     "output_type": "stream",
     "text": [
      "{'negative': 29169, 'pf': 4234, 'pm': 1517, 'po': 447, 'pv': 0}\n"
     ]
    }
   ],
   "source": [
    "data = (requests.get('https://raw.githubusercontent.com/RTANC/malaria_dataset/master/Ovale/po-trophozoite.json')).json()\n",
    "images = data[\"_via_img_metadata\"]\n",
    "for key in images:\n",
    "    url = images[key][\"filename\"]\n",
    "    leng = len(images[key][\"regions\"])\n",
    "    if leng > 0:\n",
    "        for box in images[key][\"regions\"]:\n",
    "            lbl = box[\"region_attributes\"][\"type\"]\n",
    "            if lbl == \"1\":\n",
    "                species[\"po\"] += 1\n",
    "            elif lbl == \"0\":\n",
    "                species[\"negative\"] += 1\n",
    "print(species)"
   ]
  },
  {
   "cell_type": "code",
   "execution_count": 10,
   "metadata": {},
   "outputs": [
    {
     "name": "stdout",
     "output_type": "stream",
     "text": [
      "{'negative': 31444, 'pf': 4234, 'pm': 1517, 'po': 1295, 'pv': 0}\n"
     ]
    }
   ],
   "source": [
    "data = (requests.get('https://raw.githubusercontent.com/RTANC/malaria_dataset/master/Ovale/po-gametocyte.json')).json()\n",
    "images = data[\"_via_img_metadata\"]\n",
    "for key in images:\n",
    "    url = images[key][\"filename\"]\n",
    "    leng = len(images[key][\"regions\"])\n",
    "    if leng > 0:\n",
    "        for box in images[key][\"regions\"]:\n",
    "            lbl = box[\"region_attributes\"][\"type\"]\n",
    "            if lbl == \"1\":\n",
    "                species[\"po\"] += 1\n",
    "            elif lbl == \"0\":\n",
    "                species[\"negative\"] += 1\n",
    "print(species)"
   ]
  },
  {
   "cell_type": "code",
   "execution_count": 11,
   "metadata": {},
   "outputs": [
    {
     "name": "stdout",
     "output_type": "stream",
     "text": [
      "{'negative': 33833, 'pf': 4234, 'pm': 1517, 'po': 1532, 'pv': 0}\n"
     ]
    }
   ],
   "source": [
    "data = (requests.get('https://raw.githubusercontent.com/RTANC/malaria_dataset/master/Ovale/po-train-uncategorized.json')).json()\n",
    "images = data[\"_via_img_metadata\"]\n",
    "for key in images:\n",
    "    url = images[key][\"filename\"]\n",
    "    leng = len(images[key][\"regions\"])\n",
    "    if leng > 0:\n",
    "        for box in images[key][\"regions\"]:\n",
    "            lbl = box[\"region_attributes\"][\"type\"]\n",
    "            if lbl == \"1\":\n",
    "                species[\"po\"] += 1\n",
    "            elif lbl == \"0\":\n",
    "                species[\"negative\"] += 1\n",
    "print(species)"
   ]
  },
  {
   "cell_type": "code",
   "execution_count": 12,
   "metadata": {},
   "outputs": [
    {
     "name": "stdout",
     "output_type": "stream",
     "text": [
      "{'negative': 36889, 'pf': 4234, 'pm': 1517, 'po': 1624, 'pv': 0}\n"
     ]
    }
   ],
   "source": [
    "data = (requests.get('https://raw.githubusercontent.com/RTANC/malaria_dataset/master/Ovale/po-train-20200918.json')).json()\n",
    "images = data[\"_via_img_metadata\"]\n",
    "for key in images:\n",
    "    url = images[key][\"filename\"]\n",
    "    leng = len(images[key][\"regions\"])\n",
    "    if leng > 0:\n",
    "        for box in images[key][\"regions\"]:\n",
    "            lbl = box[\"region_attributes\"][\"type\"]\n",
    "            if lbl == \"1\":\n",
    "                species[\"po\"] += 1\n",
    "            elif lbl == \"0\":\n",
    "                species[\"negative\"] += 1\n",
    "print(species)"
   ]
  },
  {
   "cell_type": "code",
   "execution_count": 13,
   "metadata": {},
   "outputs": [
    {
     "name": "stdout",
     "output_type": "stream",
     "text": [
      "{'negative': 37458, 'pf': 4234, 'pm': 1517, 'po': 1703, 'pv': 0}\n"
     ]
    }
   ],
   "source": [
    "data = (requests.get('https://raw.githubusercontent.com/RTANC/malaria_dataset/master/Ovale/po-train-20200924.json')).json()\n",
    "images = data[\"_via_img_metadata\"]\n",
    "for key in images:\n",
    "    url = images[key][\"filename\"]\n",
    "    leng = len(images[key][\"regions\"])\n",
    "    if leng > 0:\n",
    "        for box in images[key][\"regions\"]:\n",
    "            lbl = box[\"region_attributes\"][\"type\"]\n",
    "            if lbl == \"1\":\n",
    "                species[\"po\"] += 1\n",
    "            elif lbl == \"0\":\n",
    "                species[\"negative\"] += 1\n",
    "print(species)"
   ]
  },
  {
   "cell_type": "code",
   "execution_count": 14,
   "metadata": {},
   "outputs": [
    {
     "name": "stdout",
     "output_type": "stream",
     "text": [
      "{'negative': 43046, 'pf': 4234, 'pm': 1517, 'po': 1839, 'pv': 0}\n"
     ]
    }
   ],
   "source": [
    "data = (requests.get('https://raw.githubusercontent.com/RTANC/malaria_dataset/master/Ovale/po-train-20200925.json')).json()\n",
    "images = data[\"_via_img_metadata\"]\n",
    "for key in images:\n",
    "    url = images[key][\"filename\"]\n",
    "    leng = len(images[key][\"regions\"])\n",
    "    if leng > 0:\n",
    "        for box in images[key][\"regions\"]:\n",
    "            lbl = box[\"region_attributes\"][\"type\"]\n",
    "            if lbl == \"1\":\n",
    "                species[\"po\"] += 1\n",
    "            elif lbl == \"0\":\n",
    "                species[\"negative\"] += 1\n",
    "print(species)"
   ]
  },
  {
   "cell_type": "code",
   "execution_count": 15,
   "metadata": {},
   "outputs": [
    {
     "name": "stdout",
     "output_type": "stream",
     "text": [
      "{'negative': 48634, 'pf': 4234, 'pm': 1517, 'po': 1975, 'pv': 0}\n"
     ]
    }
   ],
   "source": [
    "data = (requests.get('https://raw.githubusercontent.com/RTANC/malaria_dataset/master/Ovale/po-train-20200925.json')).json()\n",
    "images = data[\"_via_img_metadata\"]\n",
    "for key in images:\n",
    "    url = images[key][\"filename\"]\n",
    "    leng = len(images[key][\"regions\"])\n",
    "    if leng > 0:\n",
    "        for box in images[key][\"regions\"]:\n",
    "            lbl = box[\"region_attributes\"][\"type\"]\n",
    "            if lbl == \"1\":\n",
    "                species[\"po\"] += 1\n",
    "            elif lbl == \"0\":\n",
    "                species[\"negative\"] += 1\n",
    "print(species)"
   ]
  }
 ],
 "metadata": {
  "kernelspec": {
   "display_name": "pytorch_env",
   "language": "python",
   "name": "pytorch_env"
  },
  "language_info": {
   "codemirror_mode": {
    "name": "ipython",
    "version": 3
   },
   "file_extension": ".py",
   "mimetype": "text/x-python",
   "name": "python",
   "nbconvert_exporter": "python",
   "pygments_lexer": "ipython3",
   "version": "3.7.3"
  }
 },
 "nbformat": 4,
 "nbformat_minor": 4
}
