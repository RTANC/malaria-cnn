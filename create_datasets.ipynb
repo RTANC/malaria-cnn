{
 "cells": [
  {
   "cell_type": "code",
   "execution_count": 1,
   "metadata": {},
   "outputs": [],
   "source": [
    "# import json\n",
    "import numpy as np\n",
    "import matplotlib.pyplot as plt\n",
    "import matplotlib.patches as mpatches\n",
    "from skimage.filters import threshold_otsu\n",
    "from skimage.io import imread, imsave\n",
    "from skimage.color import rgb2gray\n",
    "from skimage.measure import label, regionprops\n",
    "from skimage.util import crop\n",
    "import json\n",
    "import os\n",
    "import uuid\n",
    "from PIL import Image, ImageFile, ImageFont, ImageDraw, ImageEnhance\n",
    "ImageFile.LOAD_TRUNCATED_IMAGES = True\n",
    "import random\n",
    "import math\n",
    "import imageio\n",
    "import imgaug as ia\n",
    "import glob\n",
    "from imgaug import augmenters as iaa\n",
    "from imgaug.augmentables.bbs import BoundingBox, BoundingBoxesOnImage\n",
    "import shutil\n",
    "import math\n",
    "import requests\n",
    "from io import BytesIO"
   ]
  },
  {
   "cell_type": "code",
   "execution_count": 2,
   "metadata": {},
   "outputs": [],
   "source": [
    "files = glob.glob(\"negative0*/*\")\n",
    "class_name = \"negative\"\n",
    "test_counts = {\n",
    "    \"negative\": 1,\n",
    "    \"positive\": 1\n",
    "}\n",
    "\n",
    "for file in files:\n",
    "    shutil.copy(file,os.path.join(\"datasets/train/\" + class_name, class_name + \"-{:010d}.jpg\".format(test_counts[class_name])))\n",
    "    test_counts[class_name] += 1\n",
    "\n",
    "files = glob.glob(\"positive0*/*\")\n",
    "class_name = \"positive\"\n",
    "for file in files:\n",
    "    shutil.copy(file,os.path.join(\"datasets/train/\" + class_name, class_name + \"-{:010d}.jpg\".format(test_counts[class_name])))\n",
    "    test_counts[class_name] += 1\n"
   ]
  },
  {
   "cell_type": "code",
   "execution_count": null,
   "metadata": {},
   "outputs": [],
   "source": []
  },
  {
   "cell_type": "code",
   "execution_count": 5,
   "metadata": {},
   "outputs": [
    {
     "name": "stdout",
     "output_type": "stream",
     "text": [
      "datasets/train/negative/negative-0000000080.jpg-->datasets/val/negative/negative-0000000080.jpg\n",
      "datasets/train/negative/negative-0000000044.jpg-->datasets/val/negative/negative-0000000044.jpg\n",
      "datasets/train/negative/negative-0000000118.jpg-->datasets/val/negative/negative-0000000118.jpg\n",
      "datasets/train/negative/negative-0000000038.jpg-->datasets/val/negative/negative-0000000038.jpg\n",
      "datasets/train/negative/negative-0000000024.jpg-->datasets/val/negative/negative-0000000024.jpg\n",
      "datasets/train/negative/negative-0000000089.jpg-->datasets/val/negative/negative-0000000089.jpg\n",
      "datasets/train/negative/negative-0000000051.jpg-->datasets/val/negative/negative-0000000051.jpg\n",
      "datasets/train/negative/negative-0000000112.jpg-->datasets/val/negative/negative-0000000112.jpg\n",
      "datasets/train/negative/negative-0000000075.jpg-->datasets/val/negative/negative-0000000075.jpg\n",
      "datasets/train/negative/negative-0000000002.jpg-->datasets/val/negative/negative-0000000002.jpg\n",
      "datasets/train/negative/negative-0000000072.jpg-->datasets/val/negative/negative-0000000072.jpg\n",
      "datasets/train/negative/negative-0000000061.jpg-->datasets/val/negative/negative-0000000061.jpg\n",
      "datasets/train/negative/negative-0000000209.jpg-->datasets/val/negative/negative-0000000209.jpg\n",
      "datasets/train/negative/negative-0000000153.jpg-->datasets/val/negative/negative-0000000153.jpg\n",
      "datasets/train/negative/negative-0000000018.jpg-->datasets/val/negative/negative-0000000018.jpg\n",
      "datasets/train/negative/negative-0000000165.jpg-->datasets/val/negative/negative-0000000165.jpg\n",
      "datasets/train/negative/negative-0000000004.jpg-->datasets/val/negative/negative-0000000004.jpg\n",
      "datasets/train/negative/negative-0000000103.jpg-->datasets/val/negative/negative-0000000103.jpg\n",
      "datasets/train/negative/negative-0000000019.jpg-->datasets/val/negative/negative-0000000019.jpg\n",
      "datasets/train/negative/negative-0000000073.jpg-->datasets/val/negative/negative-0000000073.jpg\n"
     ]
    }
   ],
   "source": [
    "files = glob.glob(\"datasets/train/negative/*.jpg\")\n",
    "random.shuffle(files)\n",
    "for file in files[-20:]:\n",
    "    newfile = file.replace(\"/train\",\"/val\")\n",
    "    shutil.move(file,newfile)\n",
    "    print(file + \"-->\" + newfile)"
   ]
  },
  {
   "cell_type": "code",
   "execution_count": null,
   "metadata": {},
   "outputs": [],
   "source": []
  },
  {
   "cell_type": "code",
   "execution_count": 6,
   "metadata": {},
   "outputs": [
    {
     "name": "stdout",
     "output_type": "stream",
     "text": [
      "datasets/train/positive/positive-0000000095.jpg-->datasets/val/positive/positive-0000000095.jpg\n",
      "datasets/train/positive/positive-0000000072.jpg-->datasets/val/positive/positive-0000000072.jpg\n",
      "datasets/train/positive/positive-0000000017.jpg-->datasets/val/positive/positive-0000000017.jpg\n",
      "datasets/train/positive/positive-0000000001.jpg-->datasets/val/positive/positive-0000000001.jpg\n",
      "datasets/train/positive/positive-0000000013.jpg-->datasets/val/positive/positive-0000000013.jpg\n",
      "datasets/train/positive/positive-0000000120.jpg-->datasets/val/positive/positive-0000000120.jpg\n",
      "datasets/train/positive/positive-0000000144.jpg-->datasets/val/positive/positive-0000000144.jpg\n",
      "datasets/train/positive/positive-0000000155.jpg-->datasets/val/positive/positive-0000000155.jpg\n",
      "datasets/train/positive/positive-0000000003.jpg-->datasets/val/positive/positive-0000000003.jpg\n",
      "datasets/train/positive/positive-0000000207.jpg-->datasets/val/positive/positive-0000000207.jpg\n",
      "datasets/train/positive/positive-0000000192.jpg-->datasets/val/positive/positive-0000000192.jpg\n",
      "datasets/train/positive/positive-0000000022.jpg-->datasets/val/positive/positive-0000000022.jpg\n",
      "datasets/train/positive/positive-0000000047.jpg-->datasets/val/positive/positive-0000000047.jpg\n",
      "datasets/train/positive/positive-0000000076.jpg-->datasets/val/positive/positive-0000000076.jpg\n",
      "datasets/train/positive/positive-0000000048.jpg-->datasets/val/positive/positive-0000000048.jpg\n",
      "datasets/train/positive/positive-0000000097.jpg-->datasets/val/positive/positive-0000000097.jpg\n",
      "datasets/train/positive/positive-0000000085.jpg-->datasets/val/positive/positive-0000000085.jpg\n",
      "datasets/train/positive/positive-0000000208.jpg-->datasets/val/positive/positive-0000000208.jpg\n",
      "datasets/train/positive/positive-0000000190.jpg-->datasets/val/positive/positive-0000000190.jpg\n",
      "datasets/train/positive/positive-0000000119.jpg-->datasets/val/positive/positive-0000000119.jpg\n"
     ]
    }
   ],
   "source": [
    "files = glob.glob(\"datasets/train/positive/*.jpg\")\n",
    "random.shuffle(files)\n",
    "for file in files[-20:]:\n",
    "    newfile = file.replace(\"/train\",\"/val\")\n",
    "    shutil.move(file,newfile)\n",
    "    print(file + \"-->\" + newfile)"
   ]
  },
  {
   "cell_type": "code",
   "execution_count": null,
   "metadata": {},
   "outputs": [],
   "source": []
  }
 ],
 "metadata": {
  "kernelspec": {
   "display_name": "pytorch_env",
   "language": "python",
   "name": "pytorch_env"
  },
  "language_info": {
   "codemirror_mode": {
    "name": "ipython",
    "version": 3
   },
   "file_extension": ".py",
   "mimetype": "text/x-python",
   "name": "python",
   "nbconvert_exporter": "python",
   "pygments_lexer": "ipython3",
   "version": "3.7.3"
  }
 },
 "nbformat": 4,
 "nbformat_minor": 2
}
